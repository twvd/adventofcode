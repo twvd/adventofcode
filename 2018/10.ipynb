{
 "cells": [
  {
   "cell_type": "markdown",
   "metadata": {},
   "source": [
    "# Day 10: The Stars Align\n",
    "https://adventofcode.com/2018/day/10"
   ]
  },
  {
   "cell_type": "code",
   "execution_count": 1,
   "metadata": {},
   "outputs": [],
   "source": [
    "import re\n",
    "import copy\n",
    "import ipywidgets as widgets\n",
    "import itertools\n",
    "\n",
    "class Particle:\n",
    "    def __init__(self, position, velocity):\n",
    "        self.position = position\n",
    "        self.velocity = velocity\n",
    "    def getPosition(self, tick):\n",
    "        return (self.position[0] + (self.velocity[0] * tick), self.position[1] + (self.velocity[1] * tick))\n",
    "    def update(self, ticks):\n",
    "        self.position = self.getPosition(ticks)\n",
    "\n",
    "def numMap(x, in_min, in_max, out_min, out_max):\n",
    "    return int((x - in_min) * (out_max - out_min) / (in_max - in_min) + out_min)\n",
    "    \n",
    "reinput = re.compile(\"position=<\\s*(-?\\d+), \\s*(-?\\d+)> velocity=<\\s*(-?\\d+), \\s*(-?\\d+)>\")\n",
    "particles = []\n",
    "with open('inputs/10.txt') as f:\n",
    "    for l in f.readlines():\n",
    "        m = reinput.findall(l)[0]\n",
    "        particles.append(Particle((int(m[0]), int(m[1])), (int(m[2]), int(m[3]))))"
   ]
  },
  {
   "cell_type": "code",
   "execution_count": 2,
   "metadata": {},
   "outputs": [],
   "source": [
    "from PIL import Image, ImageColor, ImageDraw\n",
    "\n",
    "def getPositionsAndBounds(particles, tick):\n",
    "    positions = []\n",
    "    for p in particles:\n",
    "        positions.append(p.getPosition(tick))\n",
    "    bounds = (\n",
    "        min(positions, key = lambda x: x[0])[0],\n",
    "        min(positions, key = lambda x: x[1])[1],\n",
    "        max(positions, key = lambda x: x[0])[0],\n",
    "        max(positions, key = lambda x: x[1])[1]\n",
    "    )\n",
    "    return positions, bounds\n",
    "\n",
    "def dispParticles(particles, tick):\n",
    "    visWidth, visHeight = 400, 400\n",
    "    im = Image.new('RGB', (visWidth, visHeight), ImageColor.getcolor('black', 'RGB'))\n",
    "    positions, bounds = getPositionsAndBounds(particles, tick)\n",
    "    for pos in positions:\n",
    "        x = numMap(pos[0], bounds[0] - 50, bounds[2] + 50, 0, visWidth - 1)\n",
    "        y = numMap(pos[1], bounds[1] - 50, bounds[3] + 50, 0, visHeight - 1)\n",
    "        im.putpixel((x, y), (255, 255, 255))\n",
    "    return im"
   ]
  },
  {
   "cell_type": "markdown",
   "metadata": {},
   "source": [
    "This needed a bit of manual fiddling.. But it works!"
   ]
  },
  {
   "cell_type": "code",
   "execution_count": 3,
   "metadata": {},
   "outputs": [
    {
     "data": {
      "application/vnd.jupyter.widget-view+json": {
       "model_id": "6137fa2a9e214b0b834ec48d6ed3ce22",
       "version_major": 2,
       "version_minor": 0
      },
      "text/plain": [
       "interactive(children=(IntSlider(value=10240, description='tick', max=10500, min=10000), Output()), _dom_classe…"
      ]
     },
     "metadata": {},
     "output_type": "display_data"
    }
   ],
   "source": [
    "def dispParticlesAtTick(tick):\n",
    "    print(\"Tick: %d\" % tick)\n",
    "    return dispParticles(particles, tick)\n",
    "\n",
    "_ = widgets.interact(dispParticlesAtTick, tick = widgets.IntSlider(min=10000,max=10500,step=1,value=10240))"
   ]
  }
 ],
 "metadata": {
  "kernelspec": {
   "display_name": "Python 3",
   "language": "python",
   "name": "python3"
  },
  "language_info": {
   "codemirror_mode": {
    "name": "ipython",
    "version": 3
   },
   "file_extension": ".py",
   "mimetype": "text/x-python",
   "name": "python",
   "nbconvert_exporter": "python",
   "pygments_lexer": "ipython3",
   "version": "3.5.3"
  }
 },
 "nbformat": 4,
 "nbformat_minor": 2
}
