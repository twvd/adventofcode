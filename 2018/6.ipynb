{
 "cells": [
  {
   "cell_type": "markdown",
   "metadata": {},
   "source": [
    "# Day 6: Chronal Coordinates"
   ]
  },
  {
   "cell_type": "markdown",
   "metadata": {},
   "source": [
    "## Parse input and set-up"
   ]
  },
  {
   "cell_type": "code",
   "execution_count": 1,
   "metadata": {},
   "outputs": [
    {
     "name": "stdout",
     "output_type": "stream",
     "text": [
      "Grid size: 357, 357\n",
      "50 input coordinates\n"
     ]
    }
   ],
   "source": [
    "import itertools\n",
    "import math\n",
    "\n",
    "coords = []\n",
    "\n",
    "# File format: x, y\n",
    "with open('inputs/6.txt') as f:\n",
    "    for l in f.readlines():\n",
    "        inpLine = l.split(', ')\n",
    "        coord = (int(inpLine[0].strip()), int(inpLine[1].strip()))\n",
    "        coords.append(coord)\n",
    "\n",
    "gridWidth = max(coords, key = lambda x: x[0])[0] + 1\n",
    "gridHeight = max(coords, key = lambda x: x[1])[1] + 1\n",
    "grid = [[0] * gridHeight for i in range(gridWidth)]\n",
    "\n",
    "print(\"Grid size: %d, %d\" % (gridWidth, gridHeight))\n",
    "print(\"%d input coordinates\" % len(coords))\n",
    "\n",
    "# Pre-place coordinates in the grid\n",
    "for idx, coord in enumerate(coords):\n",
    "    grid[coord[0]][coord[1]] = idx"
   ]
  },
  {
   "cell_type": "markdown",
   "metadata": {},
   "source": [
    "## Flood-fill the grid"
   ]
  },
  {
   "cell_type": "code",
   "execution_count": 2,
   "metadata": {},
   "outputs": [],
   "source": [
    "# Manhattan / taxi-cab distance calculation\n",
    "def manhattan(p1, p2):\n",
    "    return abs(p1[0] - p2[0]) + abs(p1[1] - p2[1])\n",
    "\n",
    "# Loop each coordinate in the grid and see which point is closest\n",
    "for x, y in itertools.product(range(gridWidth), range(gridHeight)):\n",
    "    if (grid[x][y] != 0):\n",
    "        continue\n",
    "    \n",
    "    # Calculate distances to all the input coordinates from this point\n",
    "    currentCoord = (x, y)\n",
    "    distances = []\n",
    "    for idx, center in enumerate(coords):\n",
    "        distances.append(manhattan(currentCoord, center))\n",
    "    \n",
    "    sortedDists = sorted(distances)\n",
    "    if (sortedDists[0] == sortedDists[1]):\n",
    "        # Equal distance from two coordinates so no winner\n",
    "        continue\n",
    "    \n",
    "    # Get the index of the lowest element\n",
    "    closestPointIdx = min(range(len(distances)), key=lambda k: distances[k])\n",
    "    grid[x][y] = closestPointIdx"
   ]
  },
  {
   "cell_type": "markdown",
   "metadata": {},
   "source": [
    "## Answer #1"
   ]
  },
  {
   "cell_type": "code",
   "execution_count": 3,
   "metadata": {},
   "outputs": [
    {
     "name": "stdout",
     "output_type": "stream",
     "text": [
      "Answer #1: 4166\n"
     ]
    }
   ],
   "source": [
    "# Pre-calculate the input coords that extend into infinity by tracing the edges\n",
    "# of the grid. These coords should not be included.\n",
    "infinitePoints = set()\n",
    "for i in range(gridWidth):\n",
    "    infinitePoints.add(grid[i][0])\n",
    "    infinitePoints.add(grid[i][gridHeight - 1])\n",
    "for i in range(gridHeight):\n",
    "    infinitePoints.add(grid[0][i])\n",
    "    infinitePoints.add(grid[gridWidth - 1][0])\n",
    "\n",
    "# Calculate the area sizes\n",
    "areas = [0 for i in range(len(coords))]\n",
    "for x, y in itertools.product(range(gridWidth), range(gridHeight)):\n",
    "    pt = grid[x][y]\n",
    "    if pt not in infinitePoints:\n",
    "        areas[pt] += 1\n",
    "\n",
    "# Grab the biggest area size as answer\n",
    "answer1 = max(areas)\n",
    "answer1Idx = areas.index(max(areas))\n",
    "print(\"Answer #1: %d\" % (answer1))"
   ]
  },
  {
   "cell_type": "markdown",
   "metadata": {},
   "source": [
    "## Areas visualised"
   ]
  },
  {
   "cell_type": "code",
   "execution_count": 4,
   "metadata": {},
   "outputs": [
    {
     "data": {
      "image/png": "[encoded data removed]",
      "text/plain": [
       "<PIL.Image.Image image mode=RGB size=357x357 at 0x7FCDE068C9B0>"
      ]
     },
     "metadata": {},
     "output_type": "display_data"
    }
   ],
   "source": [
    "from PIL import Image, ImageColor, ImageDraw\n",
    "from IPython.display import display\n",
    "\n",
    "baseColors = [(0,0,255),(0,255,0),(255,255,0),(255,0,255),\n",
    "              (180,0,0),(0,0,180),(0,180,0),(180,180,0),(180,0,180),\n",
    "             (128,0,0),(0,0,128),(0,128,0),(128,128,0),(128,0,128),\n",
    "             (64,0,0),(0,0,64),(0,64,0),(64,64,0),(64,0,64)]\n",
    "\n",
    "# Assign each input coord a color\n",
    "pointColors = []\n",
    "for i in range(len(coords)):\n",
    "    pointColors.append(baseColors[i % len(baseColors)])\n",
    "\n",
    "# Answer #1 shows in white\n",
    "pointColors[answer1Idx] = (255,255,255)\n",
    "\n",
    "im = Image.new('RGB', (gridWidth, gridHeight), ImageColor.getcolor('black', 'RGB'))\n",
    "pixels = im.load()\n",
    "\n",
    "# Color the areas in the image\n",
    "for x, y in itertools.product(range(gridWidth), range(gridHeight)):\n",
    "    if grid[x][y] != 0:\n",
    "        pixels[x, y] = pointColors[grid[x][y]]\n",
    "\n",
    "display(im)"
   ]
  },
  {
   "cell_type": "markdown",
   "metadata": {},
   "source": [
    "## Answer #2"
   ]
  },
  {
   "cell_type": "code",
   "execution_count": 5,
   "metadata": {},
   "outputs": [
    {
     "name": "stdout",
     "output_type": "stream",
     "text": [
      "Answer #2: 42250\n"
     ]
    }
   ],
   "source": [
    "answer2 = 0\n",
    "\n",
    "answer2im = Image.new('RGB', (gridWidth, gridHeight), ImageColor.getcolor('black', 'RGB'))\n",
    "answer2Pixels = answer2im.load()\n",
    "\n",
    "# Iterate grid again for answer #2\n",
    "for x, y in itertools.product(range(gridWidth), range(gridHeight)):\n",
    "    # Sum up all the distances to this coord\n",
    "    distTotal = 0\n",
    "    for coord in coords:\n",
    "        distTotal += manhattan((x, y), coord)\n",
    "    \n",
    "    if distTotal < 10000:\n",
    "        answer2 += 1\n",
    "        answer2Pixels[x, y] = (255, 0, 0)\n",
    "\n",
    "# Show input coordinates in white\n",
    "for coord in coords:\n",
    "    answer2Pixels[coord[0], coord[1]] = (255, 255, 255)\n",
    "\n",
    "print(\"Answer #2: %d\" % answer2)"
   ]
  },
  {
   "cell_type": "markdown",
   "metadata": {},
   "source": [
    "## Answer #2 visualised"
   ]
  },
  {
   "cell_type": "code",
   "execution_count": 6,
   "metadata": {},
   "outputs": [
    {
     "data": {
      "image/png": "[encoded data removed]",
      "text/plain": [
       "<PIL.Image.Image image mode=RGB size=357x357 at 0x7FCDE0726CC0>"
      ]
     },
     "metadata": {},
     "output_type": "display_data"
    }
   ],
   "source": [
    "display(answer2im)"
   ]
  }
 ],
 "metadata": {
  "kernelspec": {
   "display_name": "Python 3",
   "language": "python",
   "name": "python3"
  },
  "language_info": {
   "codemirror_mode": {
    "name": "ipython",
    "version": 3
   },
   "file_extension": ".py",
   "mimetype": "text/x-python",
   "name": "python",
   "nbconvert_exporter": "python",
   "pygments_lexer": "ipython3",
   "version": "3.5.3"
  }
 },
 "nbformat": 4,
 "nbformat_minor": 2
}
