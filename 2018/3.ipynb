{
 "cells": [
  {
   "cell_type": "markdown",
   "metadata": {},
   "source": [
    "# Day 3: No Matter How You Slice It\n",
    "\n",
    "## Parse input"
   ]
  },
  {
   "cell_type": "code",
   "execution_count": 1,
   "metadata": {},
   "outputs": [],
   "source": [
    "import re\n",
    "import itertools\n",
    "\n",
    "class Slice:\n",
    "    def __init__(self, index, x, y, width, height):\n",
    "        self.index = int(index)\n",
    "        self.x = int(x)\n",
    "        self.y = int(y)\n",
    "        self.width = int(width)\n",
    "        self.height = int(height)\n",
    "    def iterAllPoints(self):\n",
    "        return itertools.product(range(self.x, self.x + self.width), range(self.y, self.y + self.height))\n",
    "    def getMaxX(self):\n",
    "        return self.x + self.width\n",
    "    def getMaxY(self):\n",
    "        return self.y + self.height\n",
    "        \n",
    "# Input format: #1 @ 520,746: 4x20\n",
    "inputregex = re.compile('#(\\d+) @ (\\d+),(\\d+): (\\d+)x(\\d+)')\n",
    "\n",
    "# Parse input file and convert to ints.\n",
    "# Resulting tuples: (index, x, y, width, height)\n",
    "with open('inputs/3.txt') as f:\n",
    "    input = f.readlines()\n",
    "processedInput = [tuple(map(int, inputregex.findall(s)[0])) for s in input]\n",
    "\n",
    "# Convert processed input to slice objects\n",
    "slices = [Slice(i[0], i[1], i[2], i[3], i[4]) for i in processedInput]"
   ]
  },
  {
   "cell_type": "markdown",
   "metadata": {},
   "source": [
    "## Find answer #1"
   ]
  },
  {
   "cell_type": "code",
   "execution_count": 2,
   "metadata": {},
   "outputs": [
    {
     "data": {
      "text/plain": [
       "120419"
      ]
     },
     "execution_count": 2,
     "metadata": {},
     "output_type": "execute_result"
    }
   ],
   "source": [
    "# Calculate required grid size\n",
    "gridWidth = max([sl.getMaxX() for sl in slices])\n",
    "gridHeight = max([sl.getMaxY() for sl in slices])\n",
    "grid = [[0] * gridHeight for i in range(gridWidth)]\n",
    "\n",
    "answer1 = 0\n",
    "\n",
    "for sl in slices:\n",
    "    for x, y in sl.iterAllPoints():\n",
    "        if (grid[x][y] == 1): # Only count the FIRST double claim\n",
    "            answer1 += 1\n",
    "        # This spot is now claimed\n",
    "        grid[x][y] += 1\n",
    "        \n",
    "answer1"
   ]
  },
  {
   "cell_type": "markdown",
   "metadata": {},
   "source": [
    "## Find answer #2"
   ]
  },
  {
   "cell_type": "code",
   "execution_count": 3,
   "metadata": {},
   "outputs": [
    {
     "data": {
      "text/plain": [
       "445"
      ]
     },
     "execution_count": 3,
     "metadata": {},
     "output_type": "execute_result"
    }
   ],
   "source": [
    "answer2 = None\n",
    "\n",
    "for sl in slices:\n",
    "    hasOverlap = False\n",
    "    for x, y in sl.iterAllPoints():\n",
    "        if (grid[x][y] > 1):\n",
    "            hasOverlap = True\n",
    "            break\n",
    "    if not hasOverlap:\n",
    "        answer2 = sl.index\n",
    "        break\n",
    "        \n",
    "answer2"
   ]
  },
  {
   "cell_type": "markdown",
   "metadata": {},
   "source": [
    "## Visualisation"
   ]
  },
  {
   "cell_type": "code",
   "execution_count": 7,
   "metadata": {},
   "outputs": [
    {
     "data": {
      "image/png": "[encoded data removed]",
      "text/plain": [
       "<PIL.Image.Image image mode=RGB size=800x802 at 0x7FCA1D93FBA8>"
      ]
     },
     "metadata": {},
     "output_type": "display_data"
    }
   ],
   "source": [
    "from PIL import Image, ImageColor, ImageDraw\n",
    "from IPython.display import display\n",
    "import math\n",
    "\n",
    "visWidth = 800\n",
    "visScale = visWidth / gridWidth\n",
    "visHeight = math.ceil(gridHeight * visScale)\n",
    "colorScale = 200 / max([max(x) for x in grid])\n",
    "\n",
    "im = Image.new('RGB', (visWidth, visHeight), ImageColor.getcolor('darkgreen', 'RGB'))\n",
    "# Draw black outline\n",
    "draw = ImageDraw.Draw(im)\n",
    "draw.rectangle([0, 0, visWidth - 1, visHeight - 1], None, ImageColor.getcolor('black', 'RGB'))\n",
    "\n",
    "# This is a bit slow..\n",
    "for sl in slices:\n",
    "    for x, y in sl.iterAllPoints():\n",
    "        if sl.index == answer2:\n",
    "            color = ImageColor.getcolor('gold', 'RGB')\n",
    "        else:\n",
    "            color = (255, int(grid[x][y] * colorScale), int(grid[x][y] * colorScale))\n",
    "        im.putpixel((int(x * visScale), int(y * visScale)), color)\n",
    "\n",
    "display(im)"
   ]
  },
  {
   "cell_type": "markdown",
   "metadata": {},
   "source": []
  }
 ],
 "metadata": {
  "kernelspec": {
   "display_name": "Python 3",
   "language": "python",
   "name": "python3"
  },
  "language_info": {
   "codemirror_mode": {
    "name": "ipython",
    "version": 3
   },
   "file_extension": ".py",
   "mimetype": "text/x-python",
   "name": "python",
   "nbconvert_exporter": "python",
   "pygments_lexer": "ipython3",
   "version": "3.5.3"
  }
 },
 "nbformat": 4,
 "nbformat_minor": 2
}
