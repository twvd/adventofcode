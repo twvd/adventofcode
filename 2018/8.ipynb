{
 "cells": [
  {
   "cell_type": "markdown",
   "metadata": {},
   "source": [
    "# Day 8: Memory Maneuver\n",
    "https://adventofcode.com/2018/day/8"
   ]
  },
  {
   "cell_type": "code",
   "execution_count": 1,
   "metadata": {},
   "outputs": [],
   "source": [
    "with open('inputs/8.txt') as f:\n",
    "    inputs = [int(x) for x in f.readline().strip().split(' ')]"
   ]
  },
  {
   "cell_type": "markdown",
   "metadata": {},
   "source": [
    "## Answer #1"
   ]
  },
  {
   "cell_type": "code",
   "execution_count": 2,
   "metadata": {},
   "outputs": [
    {
     "data": {
      "text/plain": [
       "48260"
      ]
     },
     "execution_count": 2,
     "metadata": {},
     "output_type": "execute_result"
    }
   ],
   "source": [
    "def answer1(inp, depth = 0):\n",
    "    children = inp.pop(0)\n",
    "    metaCount = inp.pop(0)\n",
    "    childSum = sum([answer1(inp, depth + 1) for child in range(children)])\n",
    "    metadata = [inp.pop(0) for i in range(metaCount)]\n",
    "    return sum(metadata) + childSum\n",
    "\n",
    "answer1(inputs.copy())"
   ]
  },
  {
   "cell_type": "markdown",
   "metadata": {},
   "source": [
    "## Answer #2"
   ]
  },
  {
   "cell_type": "code",
   "execution_count": 3,
   "metadata": {},
   "outputs": [
    {
     "data": {
      "text/plain": [
       "25981"
      ]
     },
     "execution_count": 3,
     "metadata": {},
     "output_type": "execute_result"
    }
   ],
   "source": [
    "def answer2(inp, depth = 0):\n",
    "    childCount = inp.pop(0)\n",
    "    metaCount = inp.pop(0)\n",
    "    children = [answer2(inp, depth + 1) for child in range(childCount)]\n",
    "    metadata = [inp.pop(0) for i in range(metaCount)]\n",
    "    if childCount == 0:\n",
    "        # Return sum of metadata as value at the end of a branch\n",
    "        r = sum(metadata)\n",
    "    else:\n",
    "        # Return total value of all children.\n",
    "        # Note: indexes start from 1!\n",
    "        r = sum([children[c - 1] for c in metadata if (c <= childCount)])\n",
    "    return r\n",
    "\n",
    "answer2(inputs.copy())"
   ]
  }
 ],
 "metadata": {
  "kernelspec": {
   "display_name": "Python 3",
   "language": "python",
   "name": "python3"
  },
  "language_info": {
   "codemirror_mode": {
    "name": "ipython",
    "version": 3
   },
   "file_extension": ".py",
   "mimetype": "text/x-python",
   "name": "python",
   "nbconvert_exporter": "python",
   "pygments_lexer": "ipython3",
   "version": "3.5.3"
  }
 },
 "nbformat": 4,
 "nbformat_minor": 2
}
