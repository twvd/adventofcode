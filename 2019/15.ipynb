{
 "cells": [
  {
   "cell_type": "code",
   "execution_count": 1,
   "metadata": {},
   "outputs": [
    {
     "name": "stdout",
     "output_type": "stream",
     "text": [
      "Answer #1: 254\n",
      "Answer #2: 268\n"
     ]
    }
   ],
   "source": [
    "import copy\n",
    "\n",
    "%run intcomputer.ipynb\n",
    "\n",
    "class Step:\n",
    "    def __init__(self, ic, coord, step, depth):\n",
    "        self.ic = ic\n",
    "        self.coord = coord\n",
    "        self.step = step\n",
    "        self.depth = depth\n",
    "    def run(self):\n",
    "        self.ic.input.append(self.step)\n",
    "        self.ic.run_to_output(1)\n",
    "        return self.ic.output.pop()\n",
    "\n",
    "inp = Intcomputer.parse_program_file('inputs/15.txt')\n",
    "steps = []\n",
    "visited = []\n",
    "ic = Intcomputer(inp)\n",
    "\n",
    "def add_from(ic, coord, step, depth):\n",
    "    global steps\n",
    "    steps.append(Step(copy.deepcopy(ic), coord, step, depth))\n",
    "    \n",
    "def add_all(ic, coord, depth=0, skip_visited=True):\n",
    "    global visited\n",
    "    if coord in visited and skip_visited:\n",
    "        return\n",
    "    for i in range(1, 5):\n",
    "        add_from(ic, coord, i, depth)\n",
    "    visited.append(coord)\n",
    "        \n",
    "def calc_coord(base, move):\n",
    "    if move == 1: # North\n",
    "        return (base[0], base[1] - 1)\n",
    "    if move == 2: # South\n",
    "        return (base[0], base[1] + 1)\n",
    "    if move == 3: # West\n",
    "        return (base[0] - 1, base[1])\n",
    "    if move == 4: # East\n",
    "        return (base[0] + 1, base[1])\n",
    "\n",
    "# BFS from starting position to oxygen generator\n",
    "add_all(ic, (0,0))\n",
    "while len(steps) > 0:\n",
    "    step = steps.pop()\n",
    "    result = step.run()\n",
    "    if result == 2:\n",
    "        print(\"Answer #1: %d\" % int(step.depth + 1))\n",
    "        break\n",
    "    elif result == 1:\n",
    "        add_all(step.ic, calc_coord(step.coord, step.step), step.depth+1)\n",
    "\n",
    "# BFS from oxygen generator to everywhere for edge finding\n",
    "steps = []\n",
    "visited = []\n",
    "add_all(step.ic, step.coord)\n",
    "max_depth = 0\n",
    "while len(steps) > 0:\n",
    "    step = steps.pop()\n",
    "    result = step.run()\n",
    "    if result == 1:\n",
    "        add_all(step.ic, calc_coord(step.coord, step.step), step.depth+1)\n",
    "        max_depth = max([step.depth, max_depth])\n",
    "        \n",
    "print(\"Answer #2: %d\" % max_depth)\n"
   ]
  },
  {
   "cell_type": "code",
   "execution_count": null,
   "metadata": {},
   "outputs": [],
   "source": []
  }
 ],
 "metadata": {
  "kernelspec": {
   "display_name": "Python 3",
   "language": "python",
   "name": "python3"
  },
  "language_info": {
   "codemirror_mode": {
    "name": "ipython",
    "version": 3
   },
   "file_extension": ".py",
   "mimetype": "text/x-python",
   "name": "python",
   "nbconvert_exporter": "python",
   "pygments_lexer": "ipython3",
   "version": "3.5.3"
  }
 },
 "nbformat": 4,
 "nbformat_minor": 2
}
