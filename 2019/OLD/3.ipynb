{
 "cells": [
  {
   "cell_type": "code",
   "execution_count": 1,
   "metadata": {},
   "outputs": [
    {
     "name": "stdout",
     "output_type": "stream",
     "text": [
      "Answer #1: 1211\n",
      "Answer #2: 101386\n"
     ]
    }
   ],
   "source": [
    "from scipy.spatial import distance\n",
    "from collections import defaultdict\n",
    "\n",
    "with open('inputs/3.txt') as f:\n",
    "    inp = [x.strip().split(',') for x in f.readlines()]\n",
    "    \n",
    "grid = defaultdict(lambda: [0] * len(inp))\n",
    "origin = (0, 0)\n",
    "intersects = dict()\n",
    "\n",
    "for wid, wire in enumerate(inp):\n",
    "    x, y = origin\n",
    "    step = 0\n",
    "    for move in wire:\n",
    "        d = move[0]\n",
    "        i = int(move[1:])\n",
    "        for s in range(i):\n",
    "            c = (x, y)\n",
    "            grid[c][wid] = step\n",
    "            if (sum(grid[c]) != step) and c not in intersects.keys():\n",
    "                intersects[c] = sum(grid[c])\n",
    "            if d == 'R':\n",
    "                x += 1\n",
    "            elif d == 'L':\n",
    "                x -= 1\n",
    "            elif d == 'U':\n",
    "                y -= 1\n",
    "            elif d == 'D':\n",
    "                y += 1\n",
    "            step += 1\n",
    "\n",
    "a1 = min(distance.cityblock(origin, i) for i in intersects.keys())\n",
    "    \n",
    "print(\"Answer #1: %d\" % a1)\n",
    "print(\"Answer #2: %d\" % min(intersects.values()))"
   ]
  }
 ],
 "metadata": {
  "kernelspec": {
   "display_name": "Python 3",
   "language": "python",
   "name": "python3"
  },
  "language_info": {
   "codemirror_mode": {
    "name": "ipython",
    "version": 3
   },
   "file_extension": ".py",
   "mimetype": "text/x-python",
   "name": "python",
   "nbconvert_exporter": "python",
   "pygments_lexer": "ipython3",
   "version": "3.5.3"
  }
 },
 "nbformat": 4,
 "nbformat_minor": 2
}
