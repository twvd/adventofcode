{
 "cells": [
  {
   "cell_type": "code",
   "execution_count": 1,
   "metadata": {},
   "outputs": [
    {
     "name": "stdout",
     "output_type": "stream",
     "text": [
      "Answer #1: 368584\n"
     ]
    }
   ],
   "source": [
    "import itertools\n",
    "\n",
    "%run intcomputer.ipynb\n",
    "\n",
    "inp = Intcomputer.parse_program_file('inputs/7.txt')\n",
    "\n",
    "results = {}\n",
    "\n",
    "for l in itertools.permutations(list(range(0,5))):\n",
    "    signal = 0\n",
    "    for i in l:\n",
    "        amp = Intcomputer(inp, inputs=[i, signal])\n",
    "        amp.run_to_output()\n",
    "        signal = amp.output.pop()\n",
    "    results[l] = signal\n",
    "        \n",
    "print(\"Answer #1: %d\" % max(results.values()))\n"
   ]
  },
  {
   "cell_type": "code",
   "execution_count": 2,
   "metadata": {},
   "outputs": [
    {
     "name": "stdout",
     "output_type": "stream",
     "text": [
      "Answer #2: 35993240\n"
     ]
    }
   ],
   "source": [
    "results2 = {}\n",
    "\n",
    "for l in itertools.permutations(list(range(5,10))):\n",
    "    amps = [Intcomputer(inp, inputs=[l[i]]) for i in range(5)]\n",
    "    signal = 0\n",
    "    cycles = 0\n",
    "    while True:\n",
    "        stop = False\n",
    "        cycles += 1\n",
    "        for i, a in enumerate(amps):\n",
    "            a.input.append(signal)\n",
    "            try:\n",
    "                a.run_to_output()\n",
    "                signal = a.output.pop()\n",
    "            except IntcomputerHaltedException:\n",
    "                stop = True\n",
    "        if stop:\n",
    "            break\n",
    "    results2[l] = signal\n",
    "\n",
    "print(\"Answer #2: %d\" % max(results2.values()))"
   ]
  }
 ],
 "metadata": {
  "kernelspec": {
   "display_name": "Python 3",
   "language": "python",
   "name": "python3"
  },
  "language_info": {
   "codemirror_mode": {
    "name": "ipython",
    "version": 3
   },
   "file_extension": ".py",
   "mimetype": "text/x-python",
   "name": "python",
   "nbconvert_exporter": "python",
   "pygments_lexer": "ipython3",
   "version": "3.5.3"
  }
 },
 "nbformat": 4,
 "nbformat_minor": 2
}
