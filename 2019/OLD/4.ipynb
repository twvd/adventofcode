{
 "cells": [
  {
   "cell_type": "code",
   "execution_count": 1,
   "metadata": {},
   "outputs": [
    {
     "name": "stdout",
     "output_type": "stream",
     "text": [
      "Answer #1: 1929\n",
      "Answer #2: 1306\n"
     ]
    }
   ],
   "source": [
    "from collections import Counter\n",
    "\n",
    "a1, a2 = 0, 0\n",
    "\n",
    "for n in range(134564, 585159):\n",
    "    l = list(int(c) for c in str(n))\n",
    "    if l != sorted(l):\n",
    "        continue\n",
    "    ctr = Counter(l).values()\n",
    "    if max(ctr) < 2:\n",
    "        continue\n",
    "    a1 += 1\n",
    "    if 2 in ctr:\n",
    "        a2 += 1\n",
    "\n",
    "print(\"Answer #1: %d\" % a1)\n",
    "print(\"Answer #2: %d\" % a2)"
   ]
  }
 ],
 "metadata": {
  "kernelspec": {
   "display_name": "Python 3",
   "language": "python",
   "name": "python3"
  },
  "language_info": {
   "codemirror_mode": {
    "name": "ipython",
    "version": 3
   },
   "file_extension": ".py",
   "mimetype": "text/x-python",
   "name": "python",
   "nbconvert_exporter": "python",
   "pygments_lexer": "ipython3",
   "version": "3.5.3"
  }
 },
 "nbformat": 4,
 "nbformat_minor": 2
}
