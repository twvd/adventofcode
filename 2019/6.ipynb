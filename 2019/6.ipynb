{
 "cells": [
  {
   "cell_type": "code",
   "execution_count": 1,
   "metadata": {},
   "outputs": [
    {
     "ename": "SyntaxError",
     "evalue": "invalid syntax (<ipython-input-1-2aaeb39f2b4c>, line 14)",
     "output_type": "error",
     "traceback": [
      "\u001b[0;36m  File \u001b[0;32m\"<ipython-input-1-2aaeb39f2b4c>\"\u001b[0;36m, line \u001b[0;32m14\u001b[0m\n\u001b[0;31m    print(\"Answer #1: %d\" % answer1)\u001b[0m\n\u001b[0m        ^\u001b[0m\n\u001b[0;31mSyntaxError\u001b[0m\u001b[0;31m:\u001b[0m invalid syntax\n"
     ]
    }
   ],
   "source": [
    "import networkx\n",
    "        \n",
    "inp = []\n",
    "\n",
    "with open('inputs/6.txt') as f:\n",
    "    for l in f.readlines():\n",
    "        inp.append(l.strip().split(')'))\n",
    "\n",
    "ograph = networkx.DiGraph()\n",
    "ograph.add_edges_from(inp)\n",
    "answer1 = 0\n",
    "for n in ograph.nodes():\n",
    "    answer1 += len(networkx.ancestors(ograph, n))\n",
    "print(\"Answer #1: %d\" % answer1)\n",
    "\n",
    "ugraph = networkx.Graph()\n",
    "ugraph.add_edges_from(inp)\n",
    "# -2 to remove points 'YOU' and 'SAN' from path len\n",
    "answer2 = networkx.shortest_path_length(ugraph, 'YOU', 'SAN') - 2\n",
    "print(\"Answer #2: %d\" % answer2)"
   ]
  }
 ],
 "metadata": {
  "kernelspec": {
   "display_name": "Python 3",
   "language": "python",
   "name": "python3"
  },
  "language_info": {
   "codemirror_mode": {
    "name": "ipython",
    "version": 3
   },
   "file_extension": ".py",
   "mimetype": "text/x-python",
   "name": "python",
   "nbconvert_exporter": "python",
   "pygments_lexer": "ipython3",
   "version": "3.5.3"
  }
 },
 "nbformat": 4,
 "nbformat_minor": 2
}
