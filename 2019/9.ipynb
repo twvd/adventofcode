{
 "cells": [
  {
   "cell_type": "code",
   "execution_count": 1,
   "metadata": {},
   "outputs": [
    {
     "name": "stdout",
     "output_type": "stream",
     "text": [
      "[4261108180]\n"
     ]
    }
   ],
   "source": [
    "%run intcomputer.ipynb\n",
    "\n",
    "inp = Intcomputer.parse_program_file('inputs/9.txt')\n",
    "ic = Intcomputer(inp, inputs=[1])\n",
    "ic.run()\n",
    "print(ic.read_output())\n"
   ]
  },
  {
   "cell_type": "code",
   "execution_count": 2,
   "metadata": {
    "scrolled": false
   },
   "outputs": [
    {
     "name": "stdout",
     "output_type": "stream",
     "text": [
      "[77944]\n"
     ]
    }
   ],
   "source": [
    "ic = Intcomputer(inp, inputs=[2])\n",
    "ic.run()\n",
    "print(ic.read_output())"
   ]
  }
 ],
 "metadata": {
  "kernelspec": {
   "display_name": "Python 3",
   "language": "python",
   "name": "python3"
  },
  "language_info": {
   "codemirror_mode": {
    "name": "ipython",
    "version": 3
   },
   "file_extension": ".py",
   "mimetype": "text/x-python",
   "name": "python",
   "nbconvert_exporter": "python",
   "pygments_lexer": "ipython3",
   "version": "3.5.3"
  }
 },
 "nbformat": 4,
 "nbformat_minor": 2
}
