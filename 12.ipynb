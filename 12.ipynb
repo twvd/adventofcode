{
 "cells": [
  {
   "cell_type": "markdown",
   "metadata": {},
   "source": [
    "# Day 12: Subterranean Sustainability\n",
    "https://adventofcode.com/2018/day/12"
   ]
  },
  {
   "cell_type": "code",
   "execution_count": 1,
   "metadata": {},
   "outputs": [],
   "source": [
    "import re\n",
    "import itertools\n",
    "\n",
    "def parsePattern(p):\n",
    "    return p\n",
    "\n",
    "initialPlants = []\n",
    "growthPatterns = {}\n",
    "\n",
    "reInitial = re.compile('initial state: ((?:#|.)+)')\n",
    "rePattern = re.compile('((?:#|.)+) => ((?:#|.)+)')\n",
    "\n",
    "with open('inputs/12.txt') as f:\n",
    "    initialPlants = reInitial.findall(f.readline())[0]\n",
    "    f.readline() # Skip empty line\n",
    "    \n",
    "    # Read the growth patterns\n",
    "    for l in f.readlines():\n",
    "        p = rePattern.findall(l)[0]\n",
    "        if p[1] != '.': # Skip growth patterns that lead to nothing\n",
    "            growthPatterns[p[0]] = p[1]"
   ]
  },
  {
   "cell_type": "markdown",
   "metadata": {},
   "source": [
    "## Answer #1"
   ]
  },
  {
   "cell_type": "code",
   "execution_count": 2,
   "metadata": {},
   "outputs": [
    {
     "name": "stdout",
     "output_type": "stream",
     "text": [
      "Answer #1: 2952\n"
     ]
    }
   ],
   "source": [
    "def grow(state, offset, patterns):\n",
    "    # Grow size if we don't have 5 dots on either side\n",
    "    if (state[0:5] != '.'*5):\n",
    "        state = '.'*5 + state\n",
    "        offset -= 5\n",
    "    if (state[-5:] != '.'*5):\n",
    "        state = state + '.'*5\n",
    "    \n",
    "    result = list('.' * len(state))\n",
    "    \n",
    "    for i in range(len(state)):\n",
    "        for pattern, presult in patterns.items():\n",
    "            if state[i - 2:i + 3] == pattern:\n",
    "                result[i] = presult\n",
    "    return ''.join(result), offset\n",
    "\n",
    "def calcValue(s, offset):\n",
    "    return sum(i + offset for i, c in enumerate(s) if c == '#')\n",
    "\n",
    "s = initialPlants\n",
    "offset = 0\n",
    "for gen in range(1, 21):\n",
    "    s, offset = grow(s, offset, growthPatterns)\n",
    "    #print(\"%02d: %s\" % (gen, s))\n",
    "    \n",
    "answer1 = calcValue(s, offset)\n",
    "print(\"Answer #1: %d\" % answer1)"
   ]
  },
  {
   "cell_type": "markdown",
   "metadata": {},
   "source": [
    "## Answer #2\n",
    "After some amount of generations, the difference in value between two generations is always the same. Once we find that point, just multiply and add up the rest."
   ]
  },
  {
   "cell_type": "code",
   "execution_count": 3,
   "metadata": {},
   "outputs": [
    {
     "name": "stdout",
     "output_type": "stream",
     "text": [
      "Answer #2: 4350000000957 (found after 113 generations)\n"
     ]
    }
   ],
   "source": [
    "s = initialPlants\n",
    "offset = 0\n",
    "lastValue = 0\n",
    "lastDifference = 0\n",
    "\n",
    "for gen in itertools.count(1):\n",
    "    s, offset = grow(s, offset, growthPatterns)\n",
    "    value = calcValue(s, offset)\n",
    "    difference = (value - lastValue)\n",
    "    #print(\"%02d: %d (difference: %d)\" % (gen, value, difference))\n",
    "    lastValue = value\n",
    "    \n",
    "    if (lastDifference == difference):\n",
    "        answer2 = value + (difference * (50000000000 - gen))\n",
    "        print(\"Answer #2: %d (found after %d generations)\" % (answer2, gen))\n",
    "        break\n",
    "        \n",
    "    lastDifference = difference"
   ]
  }
 ],
 "metadata": {
  "kernelspec": {
   "display_name": "Python 3",
   "language": "python",
   "name": "python3"
  },
  "language_info": {
   "codemirror_mode": {
    "name": "ipython",
    "version": 3
   },
   "file_extension": ".py",
   "mimetype": "text/x-python",
   "name": "python",
   "nbconvert_exporter": "python",
   "pygments_lexer": "ipython3",
   "version": "3.5.3"
  }
 },
 "nbformat": 4,
 "nbformat_minor": 2
}
